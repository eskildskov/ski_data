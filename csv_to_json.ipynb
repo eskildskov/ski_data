{
 "cells": [
  {
   "cell_type": "code",
   "execution_count": 23,
   "metadata": {},
   "outputs": [],
   "source": [
    "import csv\n",
    "import json\n",
    "import re\n",
    "import pandas as pd\n",
    "import numpy as np\n",
    "from pydantic import BaseModel, ValidationError, StrictInt\n",
    "from typing import Optional, Any"
   ]
  },
  {
   "cell_type": "code",
   "execution_count": 24,
   "metadata": {},
   "outputs": [],
   "source": [
    "routes = pd.read_csv('Skiturer Sunnmøre - Turer.csv')\n",
    "class Route(BaseModel):\n",
    "    route_id: int\n",
    "    mountain_name: str\n",
    "    area: str\n",
    "    route_name: str\n",
    "    max_start_altitude: int\n",
    "    avalanche_start_zones: list\n",
    "    kast: int\n",
    "    dangers: str\n",
    "    exposure: str\n",
    "    difficulty: str\n",
    "    comment: str\n",
    "    equipment: str\n",
    "    max_steepness: Any\n",
    "    is_descent: bool\n",
    "    start_location: str\n",
    "    altitude: int\n",
    "    geoJSON: dict\n",
    "    aspect: Any # needs fix\n",
    "\n",
    "columns = {\n",
    "  'Fjell': 'mountain_name',\n",
    "  'Himmelretning (topp til bunn)': 'aspect',\n",
    "  'Område': 'area',\n",
    "  'Rute': 'route_name',\n",
    "  'Høyeste startsted': 'max_start_altitude',\n",
    "  'Løsneområder (obligatoriske)': 'avalanche_start_zones',\n",
    "  'KAST': 'kast',\n",
    "  'Terrengfeller/farer': 'dangers',\n",
    "  'Eksponering': 'exposure',\n",
    "  'Vanskelighetsgrad': 'difficulty',\n",
    "  'Kommentar': 'comment',\n",
    "  'Utstyr': 'equipment',\n",
    "  'Max bratthet': 'max_steepness',\n",
    "  'Primært nedkjøring?': 'is_descent',\n",
    "  'Startsted': 'start_location',\n",
    "  'Toppunkt': 'altitude',\n",
    "  'Hvem': 'who'\n",
    "}\n",
    "\n",
    "routes = routes.rename(columns=columns)\n",
    "routes = routes.drop(labels='who', axis='columns')\n",
    "routes = routes.dropna(how='all', axis='columns')\n",
    "routes = routes.fillna('')\n",
    "routes['route_id'] = routes.index"
   ]
  },
  {
   "cell_type": "code",
   "execution_count": 25,
   "metadata": {},
   "outputs": [],
   "source": [
    "routes_dict = routes.to_dict(orient='records')\n",
    "\n",
    "for route in routes_dict:\n",
    "      for key, val in route.items():\n",
    "        if val == \"FALSE\" or val == \"USANN\":\n",
    "          route[key] = False\n",
    "      \n",
    "        if val == \"TRUE\" or val == \"SANN\":\n",
    "          route[key] = True\n",
    "\n",
    "      if route['avalanche_start_zones'] == False:\n",
    "        route['avalanche_start_zones'] = []\n",
    "\n",
    "      if route['geoJSON']:\n",
    "        route['geoJSON'] = json.loads(route['geoJSON'])\n",
    "\n",
    "      if route['aspect']:\n",
    "        route['aspect'] = route['aspect'].split(' ')\n",
    "\n",
    "      if route['avalanche_start_zones']:\n",
    "        elevation_spans = route['avalanche_start_zones'].replace(',', '.').split('.')\n",
    "        elevation_spans = [tuple(span.strip().split(':')) for span in elevation_spans]\n",
    "        route['avalanche_start_zones'] = elevation_spans\n",
    "      \n"
   ]
  },
  {
   "cell_type": "code",
   "execution_count": 26,
   "metadata": {
    "tags": []
   },
   "outputs": [
    {
     "name": "stdout",
     "output_type": "stream",
     "text": [
      "Høgenibba - Normalveien: \n",
      "1 validation error for Route\n",
      "kast\n",
      "  value is not a valid integer (type=type_error.integer) \n",
      "-------------\n",
      "Kolåstind - Normalveien: \n",
      "1 validation error for Route\n",
      "kast\n",
      "  value is not a valid integer (type=type_error.integer) \n",
      "-------------\n",
      "Grøtdalstind - Sydflanken: \n",
      "1 validation error for Route\n",
      "kast\n",
      "  value is not a valid integer (type=type_error.integer) \n",
      "-------------\n",
      "Grøtdalstind - Normalveien: \n",
      "1 validation error for Route\n",
      "kast\n",
      "  value is not a valid integer (type=type_error.integer) \n",
      "-------------\n",
      "Litle Eidskyrkja - Sydøstflanken: \n",
      "1 validation error for Route\n",
      "kast\n",
      "  value is not a valid integer (type=type_error.integer) \n",
      "-------------\n",
      "Grønetind - Normalveien: \n",
      "1 validation error for Route\n",
      "kast\n",
      "  value is not a valid integer (type=type_error.integer) \n",
      "-------------\n",
      "Koppefjellet - Normalveien: \n",
      "3 validation errors for Route\n",
      "avalanche_start_zones\n",
      "  value is not a valid list (type=type_error.list)\n",
      "kast\n",
      "  value is not a valid integer (type=type_error.integer)\n",
      "altitude\n",
      "  value is not a valid integer (type=type_error.integer) \n",
      "-------------\n",
      "Koppefjellet - Sydflanken: \n",
      "3 validation errors for Route\n",
      "avalanche_start_zones\n",
      "  value is not a valid list (type=type_error.list)\n",
      "kast\n",
      "  value is not a valid integer (type=type_error.integer)\n",
      "altitude\n",
      "  value is not a valid integer (type=type_error.integer) \n",
      "-------------\n",
      "Kopphornet - Normalveien: \n",
      "3 validation errors for Route\n",
      "avalanche_start_zones\n",
      "  value is not a valid list (type=type_error.list)\n",
      "kast\n",
      "  value is not a valid integer (type=type_error.integer)\n",
      "altitude\n",
      "  value is not a valid integer (type=type_error.integer) \n",
      "-------------\n",
      "Kopphornet - Østsiden: \n",
      "3 validation errors for Route\n",
      "avalanche_start_zones\n",
      "  value is not a valid list (type=type_error.list)\n",
      "kast\n",
      "  value is not a valid integer (type=type_error.integer)\n",
      "altitude\n",
      "  value is not a valid integer (type=type_error.integer) \n",
      "-------------\n",
      "Nordre Sætretind - Normalveien: \n",
      "3 validation errors for Route\n",
      "avalanche_start_zones\n",
      "  value is not a valid list (type=type_error.list)\n",
      "kast\n",
      "  value is not a valid integer (type=type_error.integer)\n",
      "altitude\n",
      "  value is not a valid integer (type=type_error.integer) \n",
      "-------------\n",
      "Kvistadkjerringane  - Vestrenna: \n",
      "1 validation error for Route\n",
      "avalanche_start_zones\n",
      "  value is not a valid list (type=type_error.list) \n",
      "-------------\n",
      "Sunndalsnipa - Normalveien: \n",
      "2 validation errors for Route\n",
      "avalanche_start_zones\n",
      "  value is not a valid list (type=type_error.list)\n",
      "kast\n",
      "  value is not a valid integer (type=type_error.integer) \n",
      "-------------\n",
      "Fossenibba  - Normalveien : \n",
      "2 validation errors for Route\n",
      "avalanche_start_zones\n",
      "  value is not a valid list (type=type_error.list)\n",
      "is_descent\n",
      "  value could not be parsed to a boolean (type=type_error.bool) \n",
      "-------------\n",
      "Kvitegga over Kvangrønibba - Opp Litledalen : \n",
      "1 validation error for Route\n",
      "avalanche_start_zones\n",
      "  value is not a valid list (type=type_error.list) \n",
      "-------------\n"
     ]
    }
   ],
   "source": [
    "valid_routes = []\n",
    "invalid_count = 0\n",
    "for route in routes_dict:\n",
    "  try:\n",
    "    r = Route(**route)\n",
    "    valid_routes.append(r)\n",
    "  except ValidationError as e:\n",
    "    error_text = (\n",
    "      f'{route[\"mountain_name\"]} - {route[\"route_name\"]}: \\n'\n",
    "      f'{e} \\n'\n",
    "      f'-------------'\n",
    "    )\n",
    "    invalid_count += 1\n",
    "    print(error_text)\n",
    "  \n"
   ]
  },
  {
   "cell_type": "code",
   "execution_count": 27,
   "metadata": {},
   "outputs": [
    {
     "data": {
      "text/plain": [
       "15"
      ]
     },
     "execution_count": 27,
     "metadata": {},
     "output_type": "execute_result"
    }
   ],
   "source": [
    "invalid_count"
   ]
  },
  {
   "cell_type": "code",
   "execution_count": 28,
   "metadata": {},
   "outputs": [
    {
     "data": {
      "text/plain": [
       "68"
      ]
     },
     "execution_count": 28,
     "metadata": {},
     "output_type": "execute_result"
    }
   ],
   "source": [
    "len(valid_routes)"
   ]
  },
  {
   "cell_type": "code",
   "execution_count": 37,
   "metadata": {},
   "outputs": [],
   "source": [
    "long_routes = pd.read_csv('Skiturer Sunnmøre - Langturer.csv')\n",
    "long_routes = long_routes.rename(columns= {'Navn': 'mountain_name'})\n",
    "long_routes['is_long_route'] = True\n",
    "long_route_dicts = long_routes.to_dict(orient='records')\n"
   ]
  },
  {
   "cell_type": "code",
   "execution_count": null,
   "metadata": {},
   "outputs": [],
   "source": [
    "route_dicts = [route.dict() for route in valid_routes]"
   ]
  },
  {
   "cell_type": "code",
   "execution_count": 41,
   "metadata": {},
   "outputs": [],
   "source": [
    "with open('routes.json', 'w') as file:\n",
    "    file.write(json.dumps(route_dicts+long_route_dicts))\n"
   ]
  }
 ],
 "metadata": {
  "kernelspec": {
   "display_name": "Python 3.7.5 64-bit",
   "metadata": {
    "interpreter": {
     "hash": "b0155f9583def1e8e5610bc868acb3441016b2ad38c806ab185b6d5ceb9de676"
    }
   },
   "name": "python3"
  },
  "language_info": {
   "codemirror_mode": {
    "name": "ipython",
    "version": 3
   },
   "file_extension": ".py",
   "mimetype": "text/x-python",
   "name": "python",
   "nbconvert_exporter": "python",
   "pygments_lexer": "ipython3",
   "version": "3.10.0"
  },
  "orig_nbformat": 2
 },
 "nbformat": 4,
 "nbformat_minor": 2
}
