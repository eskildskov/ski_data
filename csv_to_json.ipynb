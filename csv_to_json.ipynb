{
 "cells": [
  {
   "cell_type": "code",
   "execution_count": 11,
   "metadata": {},
   "outputs": [],
   "source": [
    "import csv\n",
    "import json\n",
    "import pandas as pd\n",
    "from pydantic import BaseModel, ValidationError, Field, validator\n",
    "from typing import Optional, Any\n",
    "from geojson_length import calculate_distance, Unit"
   ]
  },
  {
   "cell_type": "code",
   "execution_count": 12,
   "metadata": {},
   "outputs": [],
   "source": [
    "route_dicts = pd.read_csv('https://docs.google.com/spreadsheets/d/1gdolhvxIzJtMCXgVVTHAZGCGcRcxhRmUm8eDZ2GHmuw/gviz/tq?tqx=out:csv&sheet=Turer', keep_default_na=False).to_dict(orient='records')\n",
    "linkup_dicts = pd.read_csv('https://docs.google.com/spreadsheets/d/1gdolhvxIzJtMCXgVVTHAZGCGcRcxhRmUm8eDZ2GHmuw/gviz/tq?tqx=out:csv&sheet=Linkups', keep_default_na=False).to_dict(orient='records')\n",
    "mountain_dicts = pd.read_csv('https://docs.google.com/spreadsheets/d/1gdolhvxIzJtMCXgVVTHAZGCGcRcxhRmUm8eDZ2GHmuw/gviz/tq?tqx=out:csv&sheet=Fjell', keep_default_na=False).to_dict(orient='records')"
   ]
  },
  {
   "cell_type": "code",
   "execution_count": 13,
   "metadata": {},
   "outputs": [],
   "source": [
    "# fields_map = {\n",
    "#   'route_name': 'Rute',\n",
    "#   'aspect': 'Himmelretning (topp til bunn)',\n",
    "#   'area':'Område',\n",
    "#   'max_start_altitude':'Høyeste startsted',\n",
    "#   'avalanche_start_zones': 'Løsneområder (obligatoriske)',\n",
    "#   'kast': 'KAST',\n",
    "#   'dangers': 'Terrengfeller/farer',\n",
    "#   'exposure': 'Eksponering',\n",
    "#   'difficulty': 'Vanskelighetsgrad',\n",
    "#   'comment': 'Kommentar',\n",
    "#   'equipment': 'Utstyr',\n",
    "#   'max_steepness':'Max bratthet',\n",
    "#   'is_descent': 'Primært nedkjøring?',\n",
    "#   'start_location': 'Startsted',\n",
    "#   'altitude': 'Toppunkt',\n",
    "#   'mountain_id': 'fjell_id'\n",
    "# }"
   ]
  },
  {
   "cell_type": "code",
   "execution_count": 14,
   "metadata": {},
   "outputs": [],
   "source": [
    "def string_to_bool_or_none(val:str):\n",
    "    if not isinstance(val, str):\n",
    "      return val\n",
    "\n",
    "    if val == '':\n",
    "      return None\n",
    "\n",
    "    lowered_val = val.lower()\n",
    "\n",
    "    if lowered_val == \"false\" or lowered_val == \"usann\":\n",
    "        return False\n",
    "    \n",
    "    if lowered_val == \"true\" or lowered_val == \"sann\":\n",
    "        return True\n",
    "\n",
    "    return val\n"
   ]
  },
  {
   "cell_type": "code",
   "execution_count": 15,
   "metadata": {},
   "outputs": [],
   "source": [
    "class Mountain(BaseModel):\n",
    "  id: int = Field(..., alias=\"fjell_id\")\n",
    "  mountain_name: str =  Field(..., alias='Navn')\n",
    "  altitude: int =  Field(None, alias='Høyde')\n",
    "  area: str =  Field(None, alias='Område')\n",
    "  \n",
    "  @validator(\"*\", pre=True)\n",
    "  def parse_string(cls, val:str):\n",
    "    return string_to_bool_or_none(val)\n",
    "\n",
    "\n",
    "class Route(BaseModel):\n",
    "  id: int = Field(..., alias=\"route_id\")\n",
    "  route_name: str =  Field(..., alias='Rute')\n",
    "  max_start_altitude: int = Field(None, alias='Høyeste startsted')\n",
    "  avalanche_start_zones: list = Field(None, alias='Løsneområder (obligatoriske)')\n",
    "  kast: int = Field(None, alias=\"KAST\")\n",
    "  dangers: str = Field(None, alias=\"Terrengfeller/farer\")\n",
    "  exposure: str = Field(None, alias=\"Eksponering\")\n",
    "  difficulty: str = Field(None, alias=\"Vanskelighetsgrad\")\n",
    "  comment: str = Field(None, alias=\"Kommentar\")\n",
    "  equipment: str = Field(None, alias=\"Utstyr\")\n",
    "  max_steepness: Any = Field(None, alias=\"Max bratthet\")\n",
    "  is_descent: bool = Field(False, alias=\"Primært nedkjøring?\")\n",
    "  parking_location: str = Field(None, alias=\"Startsted\")\n",
    "  geoJSON: dict \n",
    "  aspect: list = Field([], alias=\"Himmelretning (topp til bunn)\")\n",
    "  is_linkup: bool = False\n",
    "  mountain: Optional[Mountain]\n",
    "  distance_in_km: int = Field(None)\n",
    "  elevation: Optional[int]\n",
    "\n",
    "  class config:\n",
    "    validate_assignment = True\n",
    "\n",
    "\n",
    "  @validator(\"dangers\", \"exposure\", \"difficulty\", \"comment\", \"equipment\", \"max_start_altitude\", \"kast\", \"parking_location\", pre=True)\n",
    "  def cast_string_to_none(cls, val:str):\n",
    "    if not isinstance(val, str):\n",
    "      return val\n",
    "\n",
    "    if val == '':\n",
    "      return None\n",
    "\n",
    "    lowered_val = val.lower()\n",
    "\n",
    "    if lowered_val == \"false\" or lowered_val == \"usann\":\n",
    "        return None\n",
    "\n",
    "    return val\n",
    "  \n",
    "  @validator(\"is_descent\", pre=True)\n",
    "  def cast_string_to_bool(cls, val):\n",
    "    if not isinstance(val, str):\n",
    "      return val\n",
    "\n",
    "    lowered_val = val.lower()\n",
    "    \n",
    "    if lowered_val == \"true\" or lowered_val == \"sann\":\n",
    "        return True\n",
    "\n",
    "    return False\n",
    "\n",
    "  @validator(\"geoJSON\", pre=True)\n",
    "  def string_to_dict(cls, val):\n",
    "    return json.loads(val)\n",
    "\n",
    "  @validator(\"aspect\", pre=True)\n",
    "  def split_string(cls, val):\n",
    "    return val.split(' ')\n",
    "\n",
    "  @validator(\"avalanche_start_zones\", pre=True)\n",
    "  def split_start_zones(cls, val):\n",
    "    if not string_to_bool_or_none(val):\n",
    "      return []\n",
    "\n",
    "    elevation_spans = val.replace(',', '.').split('.')\n",
    "    return [tuple(span.strip().split(':')) for span in elevation_spans]\n",
    "  \n",
    "  @validator('is_descent', pre=True)\n",
    "  def empty_string_to_bool(cls, val):\n",
    "    if isinstance(val, str) and val == '':\n",
    "      return False\n",
    "    \n",
    "    return val\n",
    "  \n",
    "  @validator('distance_in_km')\n",
    "  def cast_to_int(cls, val):\n",
    "    return int(val)\n",
    "\n",
    "  # @validator('length_in_km', pre=True)\n",
    "  # def calculate_length(cls, v, values, **kwargs):\n",
    "  #   return calculate_distance(values['geoJSON'], Unit.kilometers)\n",
    "\n",
    "class Linkup(BaseModel):\n",
    "  id: int = Field(..., alias=\"route_id\")\n",
    "  route_name: str =  Field(..., alias='Navn')\n",
    "  geoJSON: dict \n",
    "  is_linkup: bool = True\n",
    "\n",
    "\n",
    "  @validator(\"geoJSON\", pre=True)\n",
    "  def string_to_dict(cls, val):\n",
    "    return json.loads(val)\n",
    "\n"
   ]
  },
  {
   "cell_type": "code",
   "execution_count": 16,
   "metadata": {},
   "outputs": [
    {
     "name": "stdout",
     "output_type": "stream",
     "text": [
      "Invalid mountains: 0\n",
      "Valid mountain: 56\n"
     ]
    }
   ],
   "source": [
    "mountains = []\n",
    "invalid_mountains = []\n",
    "\n",
    "for mountain in mountain_dicts:\n",
    "  m = Mountain(**mountain)\n",
    "\n",
    "  try:\n",
    "    mountains.append(m)\n",
    "  except ValidationError as e:\n",
    "    error_text = (\n",
    "      f'{mountain }: \\n'\n",
    "      f'{e} \\n'\n",
    "      f'-------------'\n",
    "    )\n",
    "    print(error_text)\n",
    "\n",
    "    invalid_mountains.append(mountain)\n",
    "\n",
    "print(f'Invalid mountains: {len(invalid_mountains)}')\n",
    "print(f'Valid mountain: {len(mountains)}')"
   ]
  },
  {
   "cell_type": "code",
   "execution_count": 17,
   "metadata": {},
   "outputs": [
    {
     "name": "stdout",
     "output_type": "stream",
     "text": [
      "{'route_id': 74, 'fjell_id': 13, 'Fjell': 'Grøtdalstind', 'Rute': 'Normalveien', 'Toppunkt': '1330', 'Område': 'Kolåshalvøya', 'Primært nedkjøring?': 'FALSE', 'Himmelretning (topp til bunn)': 'V S', 'Startsted': '', 'Høyeste startsted': '250', 'Løsneområder (obligatoriske)': '930-970:30-35. 1170-1250:30-45', 'Max bratthet': '', 'Terrengfeller/farer': '', 'KAST': '', 'Eksponering': '', 'Vanskelighetsgrad': '', 'Utstyr': '', 'Kommentar': '', 'Hvem': '', 'geoJSON': '', 'Unnamed: 20': '', 'Unnamed: 21': '', 'Unnamed: 22': '', 'Unnamed: 23': '', 'Unnamed: 24': '', 'Unnamed: 25': '', 'Unnamed: 26': '', 'Unnamed: 27': '', 'Unnamed: 28': '', 'Unnamed: 29': '', 'Unnamed: 30': '', 'Unnamed: 31': '', 'Unnamed: 32': '', 'Unnamed: 33': '', 'Unnamed: 34': '', 'Unnamed: 35': '', 'Unnamed: 36': '', 'mountain': Mountain(id=13, mountain_name='Grøtdalstind', altitude=1330, area='Kolåshalvøya')}: \n",
      "1 validation error for Route\n",
      "geoJSON\n",
      "  Expecting value: line 1 column 1 (char 0) (type=value_error.jsondecode; msg=Expecting value; doc=; pos=0; lineno=1; colno=1) \n",
      "-------------\n",
      "{'route_id': 77, 'fjell_id': 16, 'Fjell': 'Koppefjellet', 'Rute': 'Normalveien', 'Toppunkt': '', 'Område': 'Austefjorden', 'Primært nedkjøring?': 'FALSE', 'Himmelretning (topp til bunn)': 'SV SØ', 'Startsted': '', 'Høyeste startsted': '270', 'Løsneområder (obligatoriske)': '', 'Max bratthet': '', 'Terrengfeller/farer': '', 'KAST': '', 'Eksponering': '', 'Vanskelighetsgrad': '', 'Utstyr': '', 'Kommentar': '', 'Hvem': '', 'geoJSON': '', 'Unnamed: 20': '', 'Unnamed: 21': '', 'Unnamed: 22': '', 'Unnamed: 23': '', 'Unnamed: 24': '', 'Unnamed: 25': '', 'Unnamed: 26': '', 'Unnamed: 27': '', 'Unnamed: 28': '', 'Unnamed: 29': '', 'Unnamed: 30': '', 'Unnamed: 31': '', 'Unnamed: 32': '', 'Unnamed: 33': '', 'Unnamed: 34': '', 'Unnamed: 35': '', 'Unnamed: 36': '', 'mountain': Mountain(id=16, mountain_name='Koppefjellet', altitude=None, area='Austefjorden')}: \n",
      "1 validation error for Route\n",
      "geoJSON\n",
      "  Expecting value: line 1 column 1 (char 0) (type=value_error.jsondecode; msg=Expecting value; doc=; pos=0; lineno=1; colno=1) \n",
      "-------------\n",
      "{'route_id': 78, 'fjell_id': 16, 'Fjell': 'Koppefjellet', 'Rute': 'Sydflanken', 'Toppunkt': '', 'Område': 'Austefjorden', 'Primært nedkjøring?': 'TRUE', 'Himmelretning (topp til bunn)': 'S SØ', 'Startsted': '', 'Høyeste startsted': '270', 'Løsneområder (obligatoriske)': '', 'Max bratthet': '', 'Terrengfeller/farer': '', 'KAST': '', 'Eksponering': '', 'Vanskelighetsgrad': '', 'Utstyr': '', 'Kommentar': '', 'Hvem': '', 'geoJSON': '', 'Unnamed: 20': '', 'Unnamed: 21': '', 'Unnamed: 22': '', 'Unnamed: 23': '', 'Unnamed: 24': '', 'Unnamed: 25': '', 'Unnamed: 26': '', 'Unnamed: 27': '', 'Unnamed: 28': '', 'Unnamed: 29': '', 'Unnamed: 30': '', 'Unnamed: 31': '', 'Unnamed: 32': '', 'Unnamed: 33': '', 'Unnamed: 34': '', 'Unnamed: 35': '', 'Unnamed: 36': '', 'mountain': Mountain(id=16, mountain_name='Koppefjellet', altitude=None, area='Austefjorden')}: \n",
      "1 validation error for Route\n",
      "geoJSON\n",
      "  Expecting value: line 1 column 1 (char 0) (type=value_error.jsondecode; msg=Expecting value; doc=; pos=0; lineno=1; colno=1) \n",
      "-------------\n",
      "{'route_id': 79, 'fjell_id': 15, 'Fjell': 'Kopphornet', 'Rute': 'Normalveien', 'Toppunkt': '', 'Område': 'Kolåshalvøya', 'Primært nedkjøring?': 'FALSE', 'Himmelretning (topp til bunn)': 'V NØ', 'Startsted': '', 'Høyeste startsted': '500', 'Løsneområder (obligatoriske)': '', 'Max bratthet': '', 'Terrengfeller/farer': '', 'KAST': '', 'Eksponering': '', 'Vanskelighetsgrad': '', 'Utstyr': '', 'Kommentar': '', 'Hvem': '', 'geoJSON': '', 'Unnamed: 20': '', 'Unnamed: 21': '', 'Unnamed: 22': '', 'Unnamed: 23': '', 'Unnamed: 24': '', 'Unnamed: 25': '', 'Unnamed: 26': '', 'Unnamed: 27': '', 'Unnamed: 28': '', 'Unnamed: 29': '', 'Unnamed: 30': '', 'Unnamed: 31': '', 'Unnamed: 32': '', 'Unnamed: 33': '', 'Unnamed: 34': '', 'Unnamed: 35': '', 'Unnamed: 36': '', 'mountain': Mountain(id=15, mountain_name='Kopphornet', altitude=None, area='Kolåshalvøya')}: \n",
      "1 validation error for Route\n",
      "geoJSON\n",
      "  Expecting value: line 1 column 1 (char 0) (type=value_error.jsondecode; msg=Expecting value; doc=; pos=0; lineno=1; colno=1) \n",
      "-------------\n",
      "{'route_id': 80, 'fjell_id': 15, 'Fjell': 'Kopphornet', 'Rute': 'Østsiden', 'Toppunkt': '', 'Område': 'Kolåshalvøya', 'Primært nedkjøring?': 'TRUE', 'Himmelretning (topp til bunn)': 'Ø N', 'Startsted': '', 'Høyeste startsted': '500', 'Løsneområder (obligatoriske)': '', 'Max bratthet': '', 'Terrengfeller/farer': '', 'KAST': '', 'Eksponering': '', 'Vanskelighetsgrad': '', 'Utstyr': '', 'Kommentar': '', 'Hvem': '', 'geoJSON': '', 'Unnamed: 20': '', 'Unnamed: 21': '', 'Unnamed: 22': '', 'Unnamed: 23': '', 'Unnamed: 24': '', 'Unnamed: 25': '', 'Unnamed: 26': '', 'Unnamed: 27': '', 'Unnamed: 28': '', 'Unnamed: 29': '', 'Unnamed: 30': '', 'Unnamed: 31': '', 'Unnamed: 32': '', 'Unnamed: 33': '', 'Unnamed: 34': '', 'Unnamed: 35': '', 'Unnamed: 36': '', 'mountain': Mountain(id=15, mountain_name='Kopphornet', altitude=None, area='Kolåshalvøya')}: \n",
      "1 validation error for Route\n",
      "geoJSON\n",
      "  Expecting value: line 1 column 1 (char 0) (type=value_error.jsondecode; msg=Expecting value; doc=; pos=0; lineno=1; colno=1) \n",
      "-------------\n",
      "{'route_id': 82, 'fjell_id': 8, 'Fjell': 'Sunndalsnipa', 'Rute': 'Normalveien', 'Toppunkt': '1396', 'Område': 'Austefjorden', 'Primært nedkjøring?': 'FALSE', 'Himmelretning (topp til bunn)': 'S', 'Startsted': '', 'Høyeste startsted': '420', 'Løsneområder (obligatoriske)': '', 'Max bratthet': '', 'Terrengfeller/farer': '', 'KAST': '', 'Eksponering': '', 'Vanskelighetsgrad': '', 'Utstyr': '', 'Kommentar': '', 'Hvem': '', 'geoJSON': '', 'Unnamed: 20': '', 'Unnamed: 21': '', 'Unnamed: 22': '', 'Unnamed: 23': '', 'Unnamed: 24': '', 'Unnamed: 25': '', 'Unnamed: 26': '', 'Unnamed: 27': '', 'Unnamed: 28': '', 'Unnamed: 29': '', 'Unnamed: 30': '', 'Unnamed: 31': '', 'Unnamed: 32': '', 'Unnamed: 33': '', 'Unnamed: 34': '', 'Unnamed: 35': '', 'Unnamed: 36': '', 'mountain': Mountain(id=8, mountain_name='Sunndalsnipa', altitude=1396, area='Austefjorden')}: \n",
      "1 validation error for Route\n",
      "geoJSON\n",
      "  Expecting value: line 1 column 1 (char 0) (type=value_error.jsondecode; msg=Expecting value; doc=; pos=0; lineno=1; colno=1) \n",
      "-------------\n"
     ]
    }
   ],
   "source": [
    "routes = []\n",
    "invalid_routes = []\n",
    "\n",
    "for route in route_dicts:\n",
    "  mountain = next((mountain for mountain in mountains if 'fjell_id' in route and mountain.id == route['fjell_id']), None)\n",
    "  \n",
    "  if mountain:\n",
    "    route['mountain'] = mountain\n",
    "\n",
    "  try:\n",
    "    r = Route(**route)\n",
    "\n",
    "    # move to validators\n",
    "    if r.mountain.altitude and r.max_start_altitude:\n",
    "      r.elevation = r.mountain.altitude - r.max_start_altitude\n",
    "    r.distance_in_km = int(calculate_distance(r.geoJSON, Unit.kilometers))\n",
    "    \n",
    "    \n",
    "    routes.append(r)\n",
    "  except ValidationError as e:\n",
    "    error_text = (\n",
    "      f'{route }: \\n'\n",
    "      f'{e} \\n'\n",
    "      f'-------------'\n",
    "    )\n",
    "    print(error_text)\n",
    "\n",
    "    invalid_routes.append(route)"
   ]
  },
  {
   "cell_type": "code",
   "execution_count": 18,
   "metadata": {},
   "outputs": [
    {
     "name": "stdout",
     "output_type": "stream",
     "text": [
      "Invalid routes: 6\n",
      "Valid routes: 82\n"
     ]
    }
   ],
   "source": [
    "print(f'Invalid routes: {len(invalid_routes)}')\n",
    "print(f'Valid routes: {len(routes)}')"
   ]
  },
  {
   "cell_type": "code",
   "execution_count": 19,
   "metadata": {},
   "outputs": [
    {
     "name": "stdout",
     "output_type": "stream",
     "text": [
      "{'route_id': 100004, 'Navn': 'Heiteruta (fjord til fjord)', 'Beskrivelse': '', 'geoJSON': '', 'Unnamed: 4': '', 'Unnamed: 5': '', 'Unnamed: 6': '', 'Unnamed: 7': '', 'Unnamed: 8': '', 'Unnamed: 9': '', 'Unnamed: 10': '', 'Unnamed: 11': '', 'Unnamed: 12': '', 'Unnamed: 13': '', 'Unnamed: 14': '', 'Unnamed: 15': '', 'Unnamed: 16': '', 'Unnamed: 17': '', 'Unnamed: 18': '', 'Unnamed: 19': '', 'Unnamed: 20': ''}: \n",
      "1 validation error for Linkup\n",
      "geoJSON\n",
      "  Expecting value: line 1 column 1 (char 0) (type=value_error.jsondecode; msg=Expecting value; doc=; pos=0; lineno=1; colno=1) \n",
      "-------------\n",
      "Invalid long routes: 1\n",
      "Valid long routes: 4\n"
     ]
    }
   ],
   "source": [
    "linkups = []\n",
    "invalid_linkups = []\n",
    "\n",
    "for linkup in linkup_dicts:\n",
    "  try:\n",
    "    r = Linkup(**linkup)\n",
    "    linkups.append(r)\n",
    "  except ValidationError as e:\n",
    "    error_text = (\n",
    "      f'{linkup }: \\n'\n",
    "      f'{e} \\n'\n",
    "      f'-------------'\n",
    "    )\n",
    "    print(error_text)\n",
    "\n",
    "    invalid_linkups.append(linkup)\n",
    "\n",
    "print(f'Invalid long routes: {len(invalid_linkups)}')\n",
    "print(f'Valid long routes: {len(linkups)}')"
   ]
  },
  {
   "cell_type": "code",
   "execution_count": 20,
   "metadata": {},
   "outputs": [],
   "source": [
    "route_dicts = [route.dict() for route in routes]\n",
    "with open('routes.json', 'w') as file:\n",
    "    file.write(json.dumps(route_dicts))\n",
    "\n",
    "linkup_dicts = [route.dict() for route in linkups]\n",
    "with open('linkups.json', 'w') as file:\n",
    "    file.write(json.dumps(linkup_dicts))\n"
   ]
  }
 ],
 "metadata": {
  "kernelspec": {
   "display_name": "Python 3.7.5 64-bit",
   "metadata": {
    "interpreter": {
     "hash": "b0155f9583def1e8e5610bc868acb3441016b2ad38c806ab185b6d5ceb9de676"
    }
   },
   "name": "python3"
  },
  "language_info": {
   "codemirror_mode": {
    "name": "ipython",
    "version": 3
   },
   "file_extension": ".py",
   "mimetype": "text/x-python",
   "name": "python",
   "nbconvert_exporter": "python",
   "pygments_lexer": "ipython3",
   "version": "3.10.0"
  },
  "orig_nbformat": 2
 },
 "nbformat": 4,
 "nbformat_minor": 2
}
