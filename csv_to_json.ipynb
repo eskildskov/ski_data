{
 "cells": [
  {
   "cell_type": "code",
   "execution_count": 1,
   "metadata": {},
   "outputs": [
    {
     "name": "stderr",
     "output_type": "stream",
     "text": [
      "/Users/eskild/Library/Caches/pypoetry/virtualenvs/ski-data-qRdYxKbe-py3.10/lib/python3.10/site-packages/pandas/compat/__init__.py:124: UserWarning: Could not import the lzma module. Your installed Python is incomplete. Attempting to use lzma compression will result in a RuntimeError.\n",
      "  warnings.warn(msg)\n"
     ]
    }
   ],
   "source": [
    "import csv\n",
    "import json\n",
    "import pandas as pd\n",
    "from pydantic import BaseModel, ValidationError, Field, validator\n",
    "from typing import Optional, Any"
   ]
  },
  {
   "cell_type": "code",
   "execution_count": 2,
   "metadata": {},
   "outputs": [],
   "source": [
    "route_dicts = pd.read_csv('https://docs.google.com/spreadsheets/d/1gdolhvxIzJtMCXgVVTHAZGCGcRcxhRmUm8eDZ2GHmuw/gviz/tq?tqx=out:csv&sheet=Turer', keep_default_na=False).to_dict(orient='records')\n",
    "linkup_dicts = pd.read_csv('https://docs.google.com/spreadsheets/d/1gdolhvxIzJtMCXgVVTHAZGCGcRcxhRmUm8eDZ2GHmuw/gviz/tq?tqx=out:csv&sheet=Linkups', keep_default_na=False).to_dict(orient='records')\n",
    "mountain_dicts = pd.read_csv('https://docs.google.com/spreadsheets/d/1gdolhvxIzJtMCXgVVTHAZGCGcRcxhRmUm8eDZ2GHmuw/gviz/tq?tqx=out:csv&sheet=Fjell', keep_default_na=False).to_dict(orient='records')"
   ]
  },
  {
   "cell_type": "code",
   "execution_count": 3,
   "metadata": {},
   "outputs": [
    {
     "data": {
      "text/plain": [
       "[{'route_id': 100000,\n",
       "  'Navn': 'Austefjorden på langs',\n",
       "  'geoJSON': '{\"type\":\"Feature\",\"properties\":{},\"geometry\":{\"type\":\"LineString\",\"coordinates\":[[6.719985,62.211374],[6.722474,62.208873],[6.725693,62.207072],[6.727924,62.205731],[6.729212,62.204991],[6.729341,62.204251],[6.730628,62.20385],[6.732044,62.20359],[6.734061,62.20321],[6.736979,62.202249],[6.737709,62.201609],[6.738482,62.199788],[6.737795,62.199307],[6.735048,62.199527],[6.733117,62.200148],[6.732302,62.199908]]}}',\n",
       "  'Unnamed: 3': '',\n",
       "  'Unnamed: 4': '',\n",
       "  'Unnamed: 5': '',\n",
       "  'Unnamed: 6': '',\n",
       "  'Unnamed: 7': '',\n",
       "  'Unnamed: 8': '',\n",
       "  'Unnamed: 9': '',\n",
       "  'Unnamed: 10': '',\n",
       "  'Unnamed: 11': '',\n",
       "  'Unnamed: 12': '',\n",
       "  'Unnamed: 13': '',\n",
       "  'Unnamed: 14': '',\n",
       "  'Unnamed: 15': '',\n",
       "  'Unnamed: 16': '',\n",
       "  'Unnamed: 17': '',\n",
       "  'Unnamed: 18': '',\n",
       "  'Unnamed: 19': ''},\n",
       " {'route_id': 100001,\n",
       "  'Navn': 'Hjørundfjorden rundt',\n",
       "  'geoJSON': '{\"type\":\"Feature\",\"properties\":{},\"geometry\":{\"type\":\"LineString\",\"coordinates\":[[6.719985,62.211374],[6.722474,62.208873],[6.725693,62.207072],[6.727924,62.205731],[6.729212,62.204991],[6.729341,62.204251],[6.730628,62.20385],[6.732044,62.20359],[6.734061,62.20321],[6.736979,62.202249],[6.737709,62.201609],[6.738482,62.199788],[6.737795,62.199307],[6.735048,62.199527],[6.733117,62.200148],[6.732302,62.199908]]}}',\n",
       "  'Unnamed: 3': '',\n",
       "  'Unnamed: 4': '',\n",
       "  'Unnamed: 5': '',\n",
       "  'Unnamed: 6': '',\n",
       "  'Unnamed: 7': '',\n",
       "  'Unnamed: 8': '',\n",
       "  'Unnamed: 9': '',\n",
       "  'Unnamed: 10': '',\n",
       "  'Unnamed: 11': '',\n",
       "  'Unnamed: 12': '',\n",
       "  'Unnamed: 13': '',\n",
       "  'Unnamed: 14': '',\n",
       "  'Unnamed: 15': '',\n",
       "  'Unnamed: 16': '',\n",
       "  'Unnamed: 17': '',\n",
       "  'Unnamed: 18': '',\n",
       "  'Unnamed: 19': ''},\n",
       " {'route_id': 100002,\n",
       "  'Navn': 'Heiteruta',\n",
       "  'geoJSON': '{\"type\":\"Feature\",\"properties\":{},\"geometry\":{\"type\":\"LineString\",\"coordinates\":[[6.720564,62.180937],[6.721509,62.180657],[6.723053,62.180697],[6.725113,62.180427],[6.729169,62.179685],[6.732645,62.179555],[6.734469,62.179916],[6.735198,62.180417],[6.737237,62.181037],[6.737752,62.181458],[6.73831,62.181979],[6.739619,62.18301],[6.739855,62.183501],[6.740348,62.183991],[6.74125,62.184822],[6.741915,62.186254],[6.742773,62.187155],[6.745648,62.187956],[6.747751,62.188957],[6.752257,62.192621],[6.752644,62.193902],[6.750498,62.194843],[6.749039,62.194943],[6.747622,62.194683],[6.745691,62.195003],[6.744747,62.195164],[6.742601,62.194883],[6.741357,62.194883],[6.739812,62.195364],[6.740026,62.196145],[6.740026,62.196885],[6.738954,62.199247],[6.738256,62.199427],[6.737645,62.199452],[6.737108,62.199417],[6.73654,62.199482],[6.736218,62.199552],[6.735799,62.199507],[6.735274,62.199572],[6.734909,62.199637],[6.734437,62.199778],[6.734222,62.200063],[6.733181,62.200378],[6.732752,62.200188],[6.732098,62.199828]]}}',\n",
       "  'Unnamed: 3': '',\n",
       "  'Unnamed: 4': '',\n",
       "  'Unnamed: 5': '',\n",
       "  'Unnamed: 6': '',\n",
       "  'Unnamed: 7': '',\n",
       "  'Unnamed: 8': '',\n",
       "  'Unnamed: 9': '',\n",
       "  'Unnamed: 10': '',\n",
       "  'Unnamed: 11': '',\n",
       "  'Unnamed: 12': '',\n",
       "  'Unnamed: 13': '',\n",
       "  'Unnamed: 14': '',\n",
       "  'Unnamed: 15': '',\n",
       "  'Unnamed: 16': '',\n",
       "  'Unnamed: 17': '',\n",
       "  'Unnamed: 18': '',\n",
       "  'Unnamed: 19': ''}]"
      ]
     },
     "execution_count": 3,
     "metadata": {},
     "output_type": "execute_result"
    }
   ],
   "source": [
    "linkup_dicts"
   ]
  },
  {
   "cell_type": "code",
   "execution_count": 4,
   "metadata": {},
   "outputs": [],
   "source": [
    "# fields_map = {\n",
    "#   'route_name': 'Rute',\n",
    "#   'aspect': 'Himmelretning (topp til bunn)',\n",
    "#   'area':'Område',\n",
    "#   'max_start_altitude':'Høyeste startsted',\n",
    "#   'avalanche_start_zones': 'Løsneområder (obligatoriske)',\n",
    "#   'kast': 'KAST',\n",
    "#   'dangers': 'Terrengfeller/farer',\n",
    "#   'exposure': 'Eksponering',\n",
    "#   'difficulty': 'Vanskelighetsgrad',\n",
    "#   'comment': 'Kommentar',\n",
    "#   'equipment': 'Utstyr',\n",
    "#   'max_steepness':'Max bratthet',\n",
    "#   'is_descent': 'Primært nedkjøring?',\n",
    "#   'start_location': 'Startsted',\n",
    "#   'altitude': 'Toppunkt',\n",
    "#   'mountain_id': 'fjell_id'\n",
    "# }"
   ]
  },
  {
   "cell_type": "code",
   "execution_count": 5,
   "metadata": {},
   "outputs": [],
   "source": [
    "def string_to_bool_or_none(val:str):\n",
    "    if not isinstance(val, str):\n",
    "      return val\n",
    "\n",
    "    if val == '':\n",
    "      return None\n",
    "\n",
    "    lowered_val = val.lower()\n",
    "\n",
    "    if lowered_val == \"false\" or lowered_val == \"usann\":\n",
    "        return False\n",
    "    \n",
    "    if lowered_val == \"true\" or lowered_val == \"sann\":\n",
    "        return True\n",
    "\n",
    "    return val"
   ]
  },
  {
   "cell_type": "code",
   "execution_count": 6,
   "metadata": {},
   "outputs": [],
   "source": [
    "class Mountain(BaseModel):\n",
    "  id: int = Field(..., alias=\"fjell_id\")\n",
    "  mountain_name: str =  Field(..., alias='Navn')\n",
    "  altitude: int =  Field(None, alias='Høyde')\n",
    "  area: str =  Field(None, alias='Område')\n",
    "  \n",
    "  @validator(\"*\", pre=True)\n",
    "  def parse_string(cls, val:str):\n",
    "    return string_to_bool_or_none(val)\n",
    "\n",
    "\n",
    "class Route(BaseModel):\n",
    "  id: int = Field(..., alias=\"route_id\")\n",
    "  route_name: str =  Field(..., alias='Rute')\n",
    "  max_start_altitude: int = Field(None, alias='Høyeste startsted')\n",
    "  avalanche_start_zones: list = Field(None, alias='Løsneområder (obligatoriske)')\n",
    "  kast: int = Field(None, alias=\"KAST\")\n",
    "  dangers: str = Field(None, alias=\"Terrengfeller/farer\")\n",
    "  exposure: str = Field(None, alias=\"Eksponering\")\n",
    "  difficulty: str = Field(None, alias=\"Vanskelighetsgrad\")\n",
    "  comment: str = Field(None, alias=\"Kommentar\")\n",
    "  equipment: str = Field(None, alias=\"Utstyr\")\n",
    "  max_steepness: Any = Field(None, alias=\"Max bratthet\")\n",
    "  is_descent: bool = Field(False, alias=\"Primært nedkjøring?\")\n",
    "  parking_location: str = Field(None, alias=\"Startsted\")\n",
    "  altitude: int = Field(None, alias=\"Toppunkt\")\n",
    "  geoJSON: dict \n",
    "  aspect: list = Field([], alias=\"Himmelretning (topp til bunn)\")\n",
    "  is_long_route: bool = False\n",
    "  mountain: Optional[Mountain]\n",
    "\n",
    "  @validator(\"*\", pre=True)\n",
    "  def parse_string(cls, val:str):\n",
    "    return string_to_bool_or_none(val)\n",
    "\n",
    "  @validator(\"geoJSON\", pre=True)\n",
    "  def string_to_dict(cls, val):\n",
    "    return json.loads(val)\n",
    "\n",
    "  @validator(\"aspect\", pre=True)\n",
    "  def split_string(cls, val):\n",
    "    return val.split(' ')\n",
    "\n",
    "  @validator(\"avalanche_start_zones\", pre=True)\n",
    "  def split_start_zones(cls, val):\n",
    "    if not string_to_bool_or_none(val):\n",
    "      return []\n",
    "\n",
    "    elevation_spans = val.replace(',', '.').split('.')\n",
    "    return [tuple(span.strip().split(':')) for span in elevation_spans]\n",
    "  \n",
    "  @validator('is_descent', pre=True)\n",
    "  def empty_string_to_bool(cls, val):\n",
    "    if isinstance(val, str) and val == '':\n",
    "      return False\n",
    "    \n",
    "    return val\n",
    "\n",
    "class Linkup(BaseModel):\n",
    "  id: int = Field(..., alias=\"route_id\")\n",
    "  route_name: str =  Field(..., alias='Navn')\n",
    "  geoJSON: dict \n",
    "\n",
    "  @validator(\"geoJSON\", pre=True)\n",
    "  def string_to_dict(cls, val):\n",
    "    return json.loads(val)\n",
    "\n"
   ]
  },
  {
   "cell_type": "code",
   "execution_count": 7,
   "metadata": {},
   "outputs": [
    {
     "name": "stdout",
     "output_type": "stream",
     "text": [
      "Invalid mountains: 0\n",
      "Valid mountain: 53\n"
     ]
    }
   ],
   "source": [
    "mountains = []\n",
    "invalid_mountains = []\n",
    "\n",
    "for mountain in mountain_dicts:\n",
    "  try:\n",
    "    m = Mountain(**mountain)\n",
    "    mountains.append(m)\n",
    "  except ValidationError as e:\n",
    "    error_text = (\n",
    "      f'{mountain }: \\n'\n",
    "      f'{e} \\n'\n",
    "      f'-------------'\n",
    "    )\n",
    "    print(error_text)\n",
    "\n",
    "    invalid_mountains.append(mountain)\n",
    "\n",
    "print(f'Invalid mountains: {len(invalid_mountains)}')\n",
    "print(f'Valid mountain: {len(mountains)}')"
   ]
  },
  {
   "cell_type": "code",
   "execution_count": 8,
   "metadata": {},
   "outputs": [
    {
     "name": "stdout",
     "output_type": "stream",
     "text": [
      "{'route_id': 74, 'fjell_id': 13, 'Fjell': 'Grøtdalstind', 'Rute': 'Normalveien', 'Toppunkt': '1330', 'Område': 'Kolåshalvøya', 'Primært nedkjøring?': 'FALSE', 'Himmelretning (topp til bunn)': 'V S', 'Startsted': '', 'Høyeste startsted': '250', 'Løsneområder (obligatoriske)': '930-970:30-35. 1170-1250:30-45', 'Max bratthet': '', 'Terrengfeller/farer': '', 'KAST': '', 'Eksponering': '', 'Vanskelighetsgrad': '', 'Utstyr': '', 'Kommentar': '', 'Hvem': '', 'geoJSON': '', 'Unnamed: 20': '', 'Unnamed: 21': '', 'Unnamed: 22': '', 'Unnamed: 23': '', 'Unnamed: 24': '', 'Unnamed: 25': '', 'Unnamed: 26': '', 'Unnamed: 27': '', 'Unnamed: 28': '', 'Unnamed: 29': '', 'Unnamed: 30': '', 'Unnamed: 31': '', 'Unnamed: 32': '', 'Unnamed: 33': '', 'Unnamed: 34': '', 'Unnamed: 35': '', 'Unnamed: 36': '', 'mountain': Mountain(id=13, mountain_name='Grøtdalstind', altitude=1330, area='Kolåshalvøya')}: \n",
      "1 validation error for Route\n",
      "geoJSON\n",
      "  Expecting value: line 1 column 1 (char 0) (type=value_error.jsondecode; msg=Expecting value; doc=; pos=0; lineno=1; colno=1) \n",
      "-------------\n",
      "{'route_id': 77, 'fjell_id': 16, 'Fjell': 'Koppefjellet', 'Rute': 'Normalveien', 'Toppunkt': '', 'Område': 'Austefjorden', 'Primært nedkjøring?': 'FALSE', 'Himmelretning (topp til bunn)': 'SV SØ', 'Startsted': '', 'Høyeste startsted': '270', 'Løsneområder (obligatoriske)': '', 'Max bratthet': '', 'Terrengfeller/farer': '', 'KAST': '', 'Eksponering': '', 'Vanskelighetsgrad': '', 'Utstyr': '', 'Kommentar': '', 'Hvem': '', 'geoJSON': '', 'Unnamed: 20': '', 'Unnamed: 21': '', 'Unnamed: 22': '', 'Unnamed: 23': '', 'Unnamed: 24': '', 'Unnamed: 25': '', 'Unnamed: 26': '', 'Unnamed: 27': '', 'Unnamed: 28': '', 'Unnamed: 29': '', 'Unnamed: 30': '', 'Unnamed: 31': '', 'Unnamed: 32': '', 'Unnamed: 33': '', 'Unnamed: 34': '', 'Unnamed: 35': '', 'Unnamed: 36': '', 'mountain': Mountain(id=16, mountain_name='Koppefjellet', altitude=None, area='Austefjorden')}: \n",
      "1 validation error for Route\n",
      "geoJSON\n",
      "  Expecting value: line 1 column 1 (char 0) (type=value_error.jsondecode; msg=Expecting value; doc=; pos=0; lineno=1; colno=1) \n",
      "-------------\n",
      "{'route_id': 78, 'fjell_id': 16, 'Fjell': 'Koppefjellet', 'Rute': 'Sydflanken', 'Toppunkt': '', 'Område': 'Austefjorden', 'Primært nedkjøring?': 'TRUE', 'Himmelretning (topp til bunn)': 'S SØ', 'Startsted': '', 'Høyeste startsted': '270', 'Løsneområder (obligatoriske)': '', 'Max bratthet': '', 'Terrengfeller/farer': '', 'KAST': '', 'Eksponering': '', 'Vanskelighetsgrad': '', 'Utstyr': '', 'Kommentar': '', 'Hvem': '', 'geoJSON': '', 'Unnamed: 20': '', 'Unnamed: 21': '', 'Unnamed: 22': '', 'Unnamed: 23': '', 'Unnamed: 24': '', 'Unnamed: 25': '', 'Unnamed: 26': '', 'Unnamed: 27': '', 'Unnamed: 28': '', 'Unnamed: 29': '', 'Unnamed: 30': '', 'Unnamed: 31': '', 'Unnamed: 32': '', 'Unnamed: 33': '', 'Unnamed: 34': '', 'Unnamed: 35': '', 'Unnamed: 36': '', 'mountain': Mountain(id=16, mountain_name='Koppefjellet', altitude=None, area='Austefjorden')}: \n",
      "1 validation error for Route\n",
      "geoJSON\n",
      "  Expecting value: line 1 column 1 (char 0) (type=value_error.jsondecode; msg=Expecting value; doc=; pos=0; lineno=1; colno=1) \n",
      "-------------\n",
      "{'route_id': 79, 'fjell_id': 15, 'Fjell': 'Kopphornet', 'Rute': 'Normalveien', 'Toppunkt': '', 'Område': 'Kolåshalvøya', 'Primært nedkjøring?': 'FALSE', 'Himmelretning (topp til bunn)': 'V NØ', 'Startsted': '', 'Høyeste startsted': '500', 'Løsneområder (obligatoriske)': '', 'Max bratthet': '', 'Terrengfeller/farer': '', 'KAST': '', 'Eksponering': '', 'Vanskelighetsgrad': '', 'Utstyr': '', 'Kommentar': '', 'Hvem': '', 'geoJSON': '', 'Unnamed: 20': '', 'Unnamed: 21': '', 'Unnamed: 22': '', 'Unnamed: 23': '', 'Unnamed: 24': '', 'Unnamed: 25': '', 'Unnamed: 26': '', 'Unnamed: 27': '', 'Unnamed: 28': '', 'Unnamed: 29': '', 'Unnamed: 30': '', 'Unnamed: 31': '', 'Unnamed: 32': '', 'Unnamed: 33': '', 'Unnamed: 34': '', 'Unnamed: 35': '', 'Unnamed: 36': '', 'mountain': Mountain(id=15, mountain_name='Kopphornet', altitude=None, area='Kolåshalvøya')}: \n",
      "1 validation error for Route\n",
      "geoJSON\n",
      "  Expecting value: line 1 column 1 (char 0) (type=value_error.jsondecode; msg=Expecting value; doc=; pos=0; lineno=1; colno=1) \n",
      "-------------\n",
      "{'route_id': 80, 'fjell_id': 15, 'Fjell': 'Kopphornet', 'Rute': 'Østsiden', 'Toppunkt': '', 'Område': 'Kolåshalvøya', 'Primært nedkjøring?': 'TRUE', 'Himmelretning (topp til bunn)': 'Ø N', 'Startsted': '', 'Høyeste startsted': '500', 'Løsneområder (obligatoriske)': '', 'Max bratthet': '', 'Terrengfeller/farer': '', 'KAST': '', 'Eksponering': '', 'Vanskelighetsgrad': '', 'Utstyr': '', 'Kommentar': '', 'Hvem': '', 'geoJSON': '', 'Unnamed: 20': '', 'Unnamed: 21': '', 'Unnamed: 22': '', 'Unnamed: 23': '', 'Unnamed: 24': '', 'Unnamed: 25': '', 'Unnamed: 26': '', 'Unnamed: 27': '', 'Unnamed: 28': '', 'Unnamed: 29': '', 'Unnamed: 30': '', 'Unnamed: 31': '', 'Unnamed: 32': '', 'Unnamed: 33': '', 'Unnamed: 34': '', 'Unnamed: 35': '', 'Unnamed: 36': '', 'mountain': Mountain(id=15, mountain_name='Kopphornet', altitude=None, area='Kolåshalvøya')}: \n",
      "1 validation error for Route\n",
      "geoJSON\n",
      "  Expecting value: line 1 column 1 (char 0) (type=value_error.jsondecode; msg=Expecting value; doc=; pos=0; lineno=1; colno=1) \n",
      "-------------\n",
      "{'route_id': 82, 'fjell_id': 8, 'Fjell': 'Sunndalsnipa', 'Rute': 'Normalveien', 'Toppunkt': '1396', 'Område': 'Austefjorden', 'Primært nedkjøring?': 'FALSE', 'Himmelretning (topp til bunn)': 'S', 'Startsted': '', 'Høyeste startsted': '420', 'Løsneområder (obligatoriske)': '', 'Max bratthet': '', 'Terrengfeller/farer': '', 'KAST': '', 'Eksponering': '', 'Vanskelighetsgrad': '', 'Utstyr': '', 'Kommentar': '', 'Hvem': '', 'geoJSON': '', 'Unnamed: 20': '', 'Unnamed: 21': '', 'Unnamed: 22': '', 'Unnamed: 23': '', 'Unnamed: 24': '', 'Unnamed: 25': '', 'Unnamed: 26': '', 'Unnamed: 27': '', 'Unnamed: 28': '', 'Unnamed: 29': '', 'Unnamed: 30': '', 'Unnamed: 31': '', 'Unnamed: 32': '', 'Unnamed: 33': '', 'Unnamed: 34': '', 'Unnamed: 35': '', 'Unnamed: 36': '', 'mountain': Mountain(id=8, mountain_name='Sunndalsnipa', altitude=1396, area='Austefjorden')}: \n",
      "1 validation error for Route\n",
      "geoJSON\n",
      "  Expecting value: line 1 column 1 (char 0) (type=value_error.jsondecode; msg=Expecting value; doc=; pos=0; lineno=1; colno=1) \n",
      "-------------\n"
     ]
    }
   ],
   "source": [
    "routes = []\n",
    "invalid_routes = []\n",
    "\n",
    "for route in route_dicts:\n",
    "  try:\n",
    "    mountain = next((mountain for mountain in mountains if mountain.id == route['fjell_id']), None)\n",
    "    route['mountain'] = mountain\n",
    "    r = Route(**route)\n",
    "    routes.append(r)\n",
    "  except ValidationError as e:\n",
    "    error_text = (\n",
    "      f'{route }: \\n'\n",
    "      f'{e} \\n'\n",
    "      f'-------------'\n",
    "    )\n",
    "    print(error_text)\n",
    "\n",
    "    invalid_routes.append(route)"
   ]
  },
  {
   "cell_type": "code",
   "execution_count": 9,
   "metadata": {},
   "outputs": [
    {
     "name": "stdout",
     "output_type": "stream",
     "text": [
      "Invalid routes: 6\n",
      "Valid routes: 77\n"
     ]
    }
   ],
   "source": [
    "print(f'Invalid routes: {len(invalid_routes)}')\n",
    "print(f'Valid routes: {len(routes)}')"
   ]
  },
  {
   "cell_type": "code",
   "execution_count": 10,
   "metadata": {},
   "outputs": [
    {
     "name": "stdout",
     "output_type": "stream",
     "text": [
      "Invalid long routes: 0\n",
      "Valid long routes: 3\n"
     ]
    }
   ],
   "source": [
    "linkups = []\n",
    "invalid_linkups = []\n",
    "\n",
    "for linkup in linkup_dicts:\n",
    "  try:\n",
    "    r = Linkup(**linkup)\n",
    "    linkups.append(r)\n",
    "  except ValidationError as e:\n",
    "    error_text = (\n",
    "      f'{linkup }: \\n'\n",
    "      f'{e} \\n'\n",
    "      f'-------------'\n",
    "    )\n",
    "    print(error_text)\n",
    "\n",
    "    invalid_linkups.append(linkup)\n",
    "\n",
    "print(f'Invalid long routes: {len(invalid_linkups)}')\n",
    "print(f'Valid long routes: {len(linkups)}')"
   ]
  },
  {
   "cell_type": "code",
   "execution_count": 11,
   "metadata": {},
   "outputs": [],
   "source": [
    "route_dicts = [route.dict() for route in routes]\n",
    "with open('routes.json', 'w') as file:\n",
    "    file.write(json.dumps(route_dicts))\n",
    "\n",
    "linkup_dicts = [route.dict() for route in linkups]\n",
    "with open('linkups.json', 'w') as file:\n",
    "    file.write(json.dumps(linkup_dicts))\n"
   ]
  }
 ],
 "metadata": {
  "kernelspec": {
   "display_name": "Python 3.7.5 64-bit",
   "metadata": {
    "interpreter": {
     "hash": "b0155f9583def1e8e5610bc868acb3441016b2ad38c806ab185b6d5ceb9de676"
    }
   },
   "name": "python3"
  },
  "language_info": {
   "codemirror_mode": {
    "name": "ipython",
    "version": 3
   },
   "file_extension": ".py",
   "mimetype": "text/x-python",
   "name": "python",
   "nbconvert_exporter": "python",
   "pygments_lexer": "ipython3",
   "version": "3.10.0"
  },
  "orig_nbformat": 2
 },
 "nbformat": 4,
 "nbformat_minor": 2
}
